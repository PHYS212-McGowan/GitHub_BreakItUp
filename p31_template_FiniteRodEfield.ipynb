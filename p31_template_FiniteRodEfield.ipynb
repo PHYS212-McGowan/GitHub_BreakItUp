{
 "cells": [
  {
   "cell_type": "markdown",
   "metadata": {},
   "source": [
    "# Breaking it up: Calculating the Electric Field due to a Uniformly Charged Rod"
   ]
  },
  {
   "cell_type": "markdown",
   "metadata": {},
   "source": [
    "Computes the electric field of a uniformly charged rod at a given point in space.  See Activities Manual p.31."
   ]
  },
  {
   "cell_type": "code",
   "execution_count": 13,
   "metadata": {
    "collapsed": false
   },
   "outputs": [],
   "source": [
    "from math import *"
   ]
  },
  {
   "cell_type": "code",
   "execution_count": 31,
   "metadata": {
    "collapsed": false
   },
   "outputs": [
    {
     "name": "stdout",
     "output_type": "stream",
     "text": [
      "The net electric field at point P =  663876.9230766965 N/C\n"
     ]
    }
   ],
   "source": [
    "# Compute the electric field at a location rP due to a charged rod of length L\n",
    "#   and charge Q by breaking the rod into N pieces.\n",
    "# Adapted from A. Titus's \"efield-rod-exercise-6-visualization.ipynb\"\n",
    "#  by A. McGowan, 19 Jan 2018\n",
    "# Follows RIT SoPA Activities Manual for University Physics II\n",
    "#  p.31 \"Breaking it up\"\n",
    "\n",
    "N = 8 #total number of pieces, not to exceed ~1e6\n",
    "L = 0.08 #length of rod in meters\n",
    "\n",
    "k = 8.99e9 #1/(4pi epsilon_0) in N m^2/C^2\n",
    "Q = 480e-9 #charge of rod in Coulombs\n",
    "\n",
    "### EDIT (1 of 3): compute the charge on each piece of the rod ###\n",
    "dq =  #charge of each piece of the rod\n",
    "\n",
    "### EDIT (2 of 3): compute the length of each piece of the rod ### \n",
    "dx =  #length of each piece of the rod\n",
    "\n",
    "d = 0.05 #distance from end of rod to point P in meters\n",
    "\n",
    "i = 0 #piece counter used for the loop; piece 0 is the piece at the left end\n",
    "r_i = 0 #initialize distance from center of each piece i to point P\n",
    "\n",
    "# In 2D problems, we must decompose vectors into components.\n",
    "#  In this 1D problem, we may simply add each piece's contribution dE\n",
    "dE = 0 #initialize E field at point P due to a single piece, in N/C\n",
    "Enet = 0 #net E field at point P due to all pieces, in N/C\n",
    "\n",
    "while i < N:\n",
    "    #treat each piece of the rod as a point charge located at the midpoint of that piece\n",
    "    r_i = d + i*dx + dx/2 #distance from P to midpoint of piece i    \n",
    "    \n",
    "    ### EDIT (3 of 3): compute the E field at point P due to this i-th piece ###\n",
    "    dE =  #dE due to piece i, in N/C\n",
    "    \n",
    "    Enet = Enet + dE #Enet due to all pieces 0 through i, in N/C\n",
    "    \n",
    "    i = i + 1 #increment to the next piece\n",
    "\n",
    "print(\"The net electric field at point P = \",Enet, \"N/C\")"
   ]
  },
  {
   "cell_type": "code",
   "execution_count": null,
   "metadata": {
    "collapsed": true
   },
   "outputs": [],
   "source": []
  },
  {
   "cell_type": "code",
   "execution_count": null,
   "metadata": {},
   "outputs": [],
   "source": []
  },
  {
   "cell_type": "code",
   "execution_count": null,
   "metadata": {},
   "outputs": [],
   "source": []
  }
 ],
 "metadata": {
  "kernelspec": {
   "display_name": "Python 3",
   "language": "python",
   "name": "python3"
  },
  "language_info": {
   "codemirror_mode": {
    "name": "ipython",
    "version": 3
   },
   "file_extension": ".py",
   "mimetype": "text/x-python",
   "name": "python",
   "nbconvert_exporter": "python",
   "pygments_lexer": "ipython3",
   "version": "3.6.3"
  }
 },
 "nbformat": 4,
 "nbformat_minor": 2
}
